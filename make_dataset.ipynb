{
 "cells": [
  {
   "cell_type": "code",
   "execution_count": 1,
   "metadata": {},
   "outputs": [
    {
     "name": "stdout",
     "output_type": "stream",
     "text": [
      "WARNING:tensorflow:From C:\\Users\\quirozdj\\AppData\\Roaming\\Python\\Python311\\site-packages\\keras\\src\\losses.py:2976: The name tf.losses.sparse_softmax_cross_entropy is deprecated. Please use tf.compat.v1.losses.sparse_softmax_cross_entropy instead.\n",
      "\n"
     ]
    }
   ],
   "source": [
    "import os\n",
    "import numpy as np\n",
    "import cv2\n",
    "import mediapipe as mp\n",
    "import time\n",
    "from sklearn.model_selection import train_test_split\n",
    "from tensorflow.keras.utils import to_categorical\n",
    "import tensorflow as tf"
   ]
  },
  {
   "cell_type": "code",
   "execution_count": null,
   "metadata": {},
   "outputs": [
    {
     "name": "stdout",
     "output_type": "stream",
     "text": [
      "Defaulting to user installation because normal site-packages is not writeable\n",
      "Requirement already satisfied: pilloW in c:\\users\\quirozdj\\appdata\\roaming\\python\\python311\\site-packages (10.2.0)\n"
     ]
    }
   ],
   "source": [
    "!pip install pilloW"
   ]
  },
  {
   "cell_type": "code",
   "execution_count": null,
   "metadata": {},
   "outputs": [
    {
     "name": "stdout",
     "output_type": "stream",
     "text": [
      "Defaulting to user installation because normal site-packages is not writeable\n",
      "Requirement already satisfied: opencv-python in c:\\users\\quirozdj\\appdata\\roaming\\python\\python311\\site-packages (4.9.0.80)\n",
      "Requirement already satisfied: numpy>=1.19.3 in c:\\users\\quirozdj\\appdata\\roaming\\python\\python311\\site-packages (from opencv-python) (1.26.4)\n"
     ]
    }
   ],
   "source": [
    "!pip install opencv-python"
   ]
  },
  {
   "cell_type": "code",
   "execution_count": null,
   "metadata": {},
   "outputs": [
    {
     "name": "stdout",
     "output_type": "stream",
     "text": [
      "Defaulting to user installation because normal site-packages is not writeable\n",
      "Requirement already satisfied: tensorflow in c:\\users\\quirozdj\\appdata\\roaming\\python\\python311\\site-packages (2.15.0)\n",
      "Requirement already satisfied: tensorflow-intel==2.15.0 in c:\\users\\quirozdj\\appdata\\roaming\\python\\python311\\site-packages (from tensorflow) (2.15.0)\n",
      "Requirement already satisfied: h5py>=2.9.0 in c:\\users\\quirozdj\\appdata\\roaming\\python\\python311\\site-packages (from tensorflow-intel==2.15.0->tensorflow) (3.10.0)\n",
      "Requirement already satisfied: flatbuffers>=23.5.26 in c:\\users\\quirozdj\\appdata\\roaming\\python\\python311\\site-packages (from tensorflow-intel==2.15.0->tensorflow) (23.5.26)\n",
      "Requirement already satisfied: tensorflow-io-gcs-filesystem>=0.23.1 in c:\\users\\quirozdj\\appdata\\roaming\\python\\python311\\site-packages (from tensorflow-intel==2.15.0->tensorflow) (0.31.0)\n",
      "Requirement already satisfied: keras<2.16,>=2.15.0 in c:\\users\\quirozdj\\appdata\\roaming\\python\\python311\\site-packages (from tensorflow-intel==2.15.0->tensorflow) (2.15.0)\n",
      "Requirement already satisfied: absl-py>=1.0.0 in c:\\users\\quirozdj\\appdata\\roaming\\python\\python311\\site-packages (from tensorflow-intel==2.15.0->tensorflow) (2.1.0)\n",
      "Requirement already satisfied: typing-extensions>=3.6.6 in c:\\users\\quirozdj\\appdata\\roaming\\python\\python311\\site-packages (from tensorflow-intel==2.15.0->tensorflow) (4.9.0)\n",
      "Requirement already satisfied: grpcio<2.0,>=1.24.3 in c:\\users\\quirozdj\\appdata\\roaming\\python\\python311\\site-packages (from tensorflow-intel==2.15.0->tensorflow) (1.62.0)\n",
      "Requirement already satisfied: libclang>=13.0.0 in c:\\users\\quirozdj\\appdata\\roaming\\python\\python311\\site-packages (from tensorflow-intel==2.15.0->tensorflow) (16.0.6)\n",
      "Requirement already satisfied: tensorboard<2.16,>=2.15 in c:\\users\\quirozdj\\appdata\\roaming\\python\\python311\\site-packages (from tensorflow-intel==2.15.0->tensorflow) (2.15.2)\n",
      "Requirement already satisfied: opt-einsum>=2.3.2 in c:\\users\\quirozdj\\appdata\\roaming\\python\\python311\\site-packages (from tensorflow-intel==2.15.0->tensorflow) (3.3.0)\n",
      "Requirement already satisfied: gast!=0.5.0,!=0.5.1,!=0.5.2,>=0.2.1 in c:\\users\\quirozdj\\appdata\\roaming\\python\\python311\\site-packages (from tensorflow-intel==2.15.0->tensorflow) (0.5.4)\n",
      "Requirement already satisfied: ml-dtypes~=0.2.0 in c:\\users\\quirozdj\\appdata\\roaming\\python\\python311\\site-packages (from tensorflow-intel==2.15.0->tensorflow) (0.2.0)\n",
      "Requirement already satisfied: setuptools in c:\\program files\\python311\\lib\\site-packages (from tensorflow-intel==2.15.0->tensorflow) (65.5.0)\n",
      "Requirement already satisfied: protobuf!=4.21.0,!=4.21.1,!=4.21.2,!=4.21.3,!=4.21.4,!=4.21.5,<5.0.0dev,>=3.20.3 in c:\\users\\quirozdj\\appdata\\roaming\\python\\python311\\site-packages (from tensorflow-intel==2.15.0->tensorflow) (3.20.3)\n",
      "Requirement already satisfied: numpy<2.0.0,>=1.23.5 in c:\\users\\quirozdj\\appdata\\roaming\\python\\python311\\site-packages (from tensorflow-intel==2.15.0->tensorflow) (1.26.4)\n",
      "Requirement already satisfied: termcolor>=1.1.0 in c:\\users\\quirozdj\\appdata\\roaming\\python\\python311\\site-packages (from tensorflow-intel==2.15.0->tensorflow) (2.4.0)\n",
      "Requirement already satisfied: packaging in c:\\users\\quirozdj\\appdata\\roaming\\python\\python311\\site-packages (from tensorflow-intel==2.15.0->tensorflow) (23.2)\n",
      "Requirement already satisfied: astunparse>=1.6.0 in c:\\users\\quirozdj\\appdata\\roaming\\python\\python311\\site-packages (from tensorflow-intel==2.15.0->tensorflow) (1.6.3)\n",
      "Requirement already satisfied: tensorflow-estimator<2.16,>=2.15.0 in c:\\users\\quirozdj\\appdata\\roaming\\python\\python311\\site-packages (from tensorflow-intel==2.15.0->tensorflow) (2.15.0)\n",
      "Requirement already satisfied: wrapt<1.15,>=1.11.0 in c:\\users\\quirozdj\\appdata\\roaming\\python\\python311\\site-packages (from tensorflow-intel==2.15.0->tensorflow) (1.14.1)\n",
      "Requirement already satisfied: google-pasta>=0.1.1 in c:\\users\\quirozdj\\appdata\\roaming\\python\\python311\\site-packages (from tensorflow-intel==2.15.0->tensorflow) (0.2.0)\n",
      "Requirement already satisfied: six>=1.12.0 in c:\\users\\quirozdj\\appdata\\roaming\\python\\python311\\site-packages (from tensorflow-intel==2.15.0->tensorflow) (1.16.0)\n",
      "Requirement already satisfied: wheel<1.0,>=0.23.0 in c:\\users\\quirozdj\\appdata\\roaming\\python\\python311\\site-packages (from astunparse>=1.6.0->tensorflow-intel==2.15.0->tensorflow) (0.42.0)\n",
      "Requirement already satisfied: requests<3,>=2.21.0 in c:\\users\\quirozdj\\appdata\\roaming\\python\\python311\\site-packages (from tensorboard<2.16,>=2.15->tensorflow-intel==2.15.0->tensorflow) (2.31.0)\n",
      "Requirement already satisfied: werkzeug>=1.0.1 in c:\\users\\quirozdj\\appdata\\roaming\\python\\python311\\site-packages (from tensorboard<2.16,>=2.15->tensorflow-intel==2.15.0->tensorflow) (3.0.1)\n",
      "Requirement already satisfied: tensorboard-data-server<0.8.0,>=0.7.0 in c:\\users\\quirozdj\\appdata\\roaming\\python\\python311\\site-packages (from tensorboard<2.16,>=2.15->tensorflow-intel==2.15.0->tensorflow) (0.7.2)\n",
      "Requirement already satisfied: google-auth<3,>=1.6.3 in c:\\users\\quirozdj\\appdata\\roaming\\python\\python311\\site-packages (from tensorboard<2.16,>=2.15->tensorflow-intel==2.15.0->tensorflow) (2.28.1)\n",
      "Requirement already satisfied: google-auth-oauthlib<2,>=0.5 in c:\\users\\quirozdj\\appdata\\roaming\\python\\python311\\site-packages (from tensorboard<2.16,>=2.15->tensorflow-intel==2.15.0->tensorflow) (1.2.0)\n",
      "Requirement already satisfied: markdown>=2.6.8 in c:\\users\\quirozdj\\appdata\\roaming\\python\\python311\\site-packages (from tensorboard<2.16,>=2.15->tensorflow-intel==2.15.0->tensorflow) (3.5.2)\n",
      "Requirement already satisfied: cachetools<6.0,>=2.0.0 in c:\\users\\quirozdj\\appdata\\roaming\\python\\python311\\site-packages (from google-auth<3,>=1.6.3->tensorboard<2.16,>=2.15->tensorflow-intel==2.15.0->tensorflow) (5.3.3)\n",
      "Requirement already satisfied: pyasn1-modules>=0.2.1 in c:\\users\\quirozdj\\appdata\\roaming\\python\\python311\\site-packages (from google-auth<3,>=1.6.3->tensorboard<2.16,>=2.15->tensorflow-intel==2.15.0->tensorflow) (0.3.0)\n",
      "Requirement already satisfied: rsa<5,>=3.1.4 in c:\\users\\quirozdj\\appdata\\roaming\\python\\python311\\site-packages (from google-auth<3,>=1.6.3->tensorboard<2.16,>=2.15->tensorflow-intel==2.15.0->tensorflow) (4.9)\n",
      "Requirement already satisfied: requests-oauthlib>=0.7.0 in c:\\users\\quirozdj\\appdata\\roaming\\python\\python311\\site-packages (from google-auth-oauthlib<2,>=0.5->tensorboard<2.16,>=2.15->tensorflow-intel==2.15.0->tensorflow) (1.3.1)\n",
      "Requirement already satisfied: pyasn1<0.6.0,>=0.4.6 in c:\\users\\quirozdj\\appdata\\roaming\\python\\python311\\site-packages (from pyasn1-modules>=0.2.1->google-auth<3,>=1.6.3->tensorboard<2.16,>=2.15->tensorflow-intel==2.15.0->tensorflow) (0.5.1)\n",
      "Requirement already satisfied: charset-normalizer<4,>=2 in c:\\users\\quirozdj\\appdata\\roaming\\python\\python311\\site-packages (from requests<3,>=2.21.0->tensorboard<2.16,>=2.15->tensorflow-intel==2.15.0->tensorflow) (3.3.2)\n",
      "Requirement already satisfied: certifi>=2017.4.17 in c:\\users\\quirozdj\\appdata\\roaming\\python\\python311\\site-packages (from requests<3,>=2.21.0->tensorboard<2.16,>=2.15->tensorflow-intel==2.15.0->tensorflow) (2024.2.2)\n",
      "Requirement already satisfied: idna<4,>=2.5 in c:\\users\\quirozdj\\appdata\\roaming\\python\\python311\\site-packages (from requests<3,>=2.21.0->tensorboard<2.16,>=2.15->tensorflow-intel==2.15.0->tensorflow) (3.6)\n",
      "Requirement already satisfied: urllib3<3,>=1.21.1 in c:\\users\\quirozdj\\appdata\\roaming\\python\\python311\\site-packages (from requests<3,>=2.21.0->tensorboard<2.16,>=2.15->tensorflow-intel==2.15.0->tensorflow) (2.2.0)\n",
      "Requirement already satisfied: oauthlib>=3.0.0 in c:\\users\\quirozdj\\appdata\\roaming\\python\\python311\\site-packages (from requests-oauthlib>=0.7.0->google-auth-oauthlib<2,>=0.5->tensorboard<2.16,>=2.15->tensorflow-intel==2.15.0->tensorflow) (3.2.2)\n",
      "Requirement already satisfied: MarkupSafe>=2.1.1 in c:\\users\\quirozdj\\appdata\\roaming\\python\\python311\\site-packages (from werkzeug>=1.0.1->tensorboard<2.16,>=2.15->tensorflow-intel==2.15.0->tensorflow) (2.1.5)\n"
     ]
    }
   ],
   "source": [
    "!pip install tensorflow"
   ]
  },
  {
   "cell_type": "code",
   "execution_count": 2,
   "metadata": {},
   "outputs": [],
   "source": [
    "import sys  \n",
    "sys.path.insert(0, './')\n",
    "from pose_media import mediapipe_pose"
   ]
  },
  {
   "cell_type": "code",
   "execution_count": 3,
   "metadata": {},
   "outputs": [],
   "source": [
    "DATA_PATH = \"./DATA/\" \n",
    "if not os.path.exists(DATA_PATH):\n",
    "    os.mkdir(DATA_PATH) "
   ]
  },
  {
   "cell_type": "code",
   "execution_count": 4,
   "metadata": {},
   "outputs": [],
   "source": [
    "mp = mediapipe_pose()"
   ]
  },
  {
   "cell_type": "code",
   "execution_count": 5,
   "metadata": {},
   "outputs": [],
   "source": [
    "cTime,pTime = 0,0"
   ]
  },
  {
   "cell_type": "code",
   "execution_count": 6,
   "metadata": {},
   "outputs": [],
   "source": [
    "\n",
    "# Longitud de cada secuencia de frames\n",
    "sequence_length = 30\n",
    "\n",
    "# Ruta del directorio donde se encuentran los videos\n",
    "path = \"./DATASET/\"\n",
    "\n",
    "# Obtener la lista de acciones (carpetas) presentes en el directorio\n",
    "actions = os.listdir(path)\n",
    "actions = np.array([\"Falling down\",\"Headache\",\"Nausea\",\"Sit down\", \"Stand up\",\"Walking\", \"running\"])\n",
    "\n",
    "# Recorrer cada acción\n",
    "for action in actions:\n",
    "    # Crear una carpeta para almacenar los keypoints de esa acción si no existe\n",
    "    if not os.path.exists(DATA_PATH + action):\n",
    "        os.mkdir(DATA_PATH + action)\n",
    "    \n",
    "    # Obtener la lista de videos presentes en la carpeta de esa acción\n",
    "    video_list = os.listdir(path + action)\n",
    "    \n",
    "    # Recorrer cada video dentro de la acción\n",
    "    for video_file in video_list:\n",
    "        video_path = os.path.join(path, action, video_file)\n",
    "        cap = cv2.VideoCapture(video_path)\n",
    "        \n",
    "        # Obtener la duración del video en frames\n",
    "        total_frames = int(cap.get(cv2.CAP_PROP_FRAME_COUNT))\n",
    "        \n",
    "        # Calcular los índices de los frames importantes\n",
    "        important_frames = np.linspace(0, total_frames - 1, sequence_length, dtype=int)\n",
    "        \n",
    "        # Inicializar el detector de keypoints de MediaPipe\n",
    "        with mp.mp_holistic.Holistic(min_detection_confidence=0.5, min_tracking_confidence=0.5) as holistic:\n",
    "            # Crear una carpeta para almacenar los keypoints de ese video\n",
    "            video_output_folder = os.path.join(DATA_PATH, action, video_file.split('.')[0])\n",
    "            if not os.path.exists(video_output_folder):\n",
    "                os.mkdir(video_output_folder)\n",
    "            \n",
    "            # Recorrer los índices de los frames importantes\n",
    "            frame_num = 1\n",
    "            for frame_index in important_frames:\n",
    "                # Ir al frame importante\n",
    "                cap.set(cv2.CAP_PROP_POS_FRAMES, frame_index)\n",
    "                \n",
    "                # Leer el frame\n",
    "                ret, frame = cap.read()\n",
    "                if not ret:\n",
    "                    break\n",
    "                \n",
    "                try:\n",
    "                    # Detectar keypoints en el frame utilizando MediaPipe\n",
    "                    image, results = mp.mediapipe_detection(frame, holistic)\n",
    "                except:\n",
    "                    break\n",
    "                \n",
    "                # Dibujar los puntos clave detectados en el frame\n",
    "                mp.draw_styled_landmarks(image, results)\n",
    "                \n",
    "                # Calcular y mostrar la tasa de FPS en la imagen\n",
    "                cTime = time.time()\n",
    "                fps = 1 / (cTime - pTime)\n",
    "                pTime = cTime\n",
    "                cv2.putText(image, \"FPS:\" + str(int(fps)), (10, 100), cv2.FONT_HERSHEY_PLAIN, 2, (255, 0, 190), 2, cv2.LINE_AA)\n",
    "                \n",
    "                # Mostrar el frame procesado en una ventana de OpenCV\n",
    "                cv2.putText(image, 'Collecting frames for {} Video {}'.format(action, video_file), (5, 15), \n",
    "                            cv2.FONT_HERSHEY_SIMPLEX, 0.3, (0, 0, 255), 1, cv2.LINE_AA)\n",
    "                cv2.imshow('OpenCV Feed', image)\n",
    "                \n",
    "                # Extraer los keypoints y guardarlos en un archivo numpy (.npy)\n",
    "                keypoints = mp.extract_keypoints(results)\n",
    "                npy_path = os.path.join(video_output_folder, str(frame_num))\n",
    "                np.save(npy_path, keypoints)\n",
    "                \n",
    "                # Incrementar el contador de frames\n",
    "                frame_num += 1\n",
    "                \n",
    "                # Salir del bucle si se presiona la tecla 'q'\n",
    "                if cv2.waitKey(1) & 0xFF == ord(\"q\"):\n",
    "                    break\n",
    "                    \n",
    "            # Liberar la captura de video\n",
    "            cap.release()\n",
    "\n",
    "# Cerrar todas las ventanas de OpenCV\n",
    "cv2.destroyAllWindows()\n"
   ]
  },
  {
   "cell_type": "code",
   "execution_count": null,
   "metadata": {},
   "outputs": [
    {
     "name": "stdout",
     "output_type": "stream",
     "text": [
      "{'back_pain': 0, 'chest_pain': 1, 'falling_down': 2, 'headache': 3, 'neck_pain': 4, 'snezee': 5, 'staggering': 6}\n"
     ]
    }
   ],
   "source": [
    "\n",
    "\n",
    "import sys  \n",
    "sys.path.insert(0, './')\n",
    "\n",
    "\n",
    "DATA_PATH = \"./DATA/\" \n",
    "if not os.path.exists(DATA_PATH):\n",
    "    os.mkdir(DATA_PATH)   \n",
    "\n",
    "\n",
    "cTime,pTime = 0,0\n",
    "\n",
    "\n",
    "sequence_length = 30\n",
    "path = \"./DATASET/\"\n",
    "actions = os.listdir(path)\n",
    "\n",
    "\n",
    "DATA_PATH = os.path.join('DATA') \n",
    "actions = np.array([\"Back pain\",\"Chest pain\",\"Falling down\",\"Headache\",\"Nausea\",\"Neck pain\",\"Sit down\",\"Snezee-Cough\",\"Staggering\", \"Stand up\",\"Walking\"])\n",
    "no_sequences = 1776\n",
    "sequence_length = 30\n",
    "\n",
    "label_map = {label:num for num,label in enumerate(actions)}\n",
    "print(label_map)\n",
    "\n",
    "def load_data(actions,no_sequences,sequence_length):\n",
    "    sequences1,labels = [],[]\n",
    "    for action in actions:\n",
    "        for sequence in range(no_sequences):\n",
    "            window = []\n",
    "            for frame_num in range(1,sequence_length+1):\n",
    "                res = np.load(os.path.join(DATA_PATH,action,str(sequence),\"{}.npy\".format(frame_num)))\n",
    "                window.append(res)\n",
    "            sequences1.append(window)\n",
    "            labels.append(label_map[action])\n",
    "    return sequences1,labels\n",
    "\n",
    "def cargar_datos(actions, sequences_length):\n",
    "    frames_g, labels = [],[]\n",
    "    for action in actions:\n",
    "        \n",
    "\n",
    "\n"
   ]
  },
  {
   "cell_type": "code",
   "execution_count": null,
   "metadata": {},
   "outputs": [],
   "source": []
  },
  {
   "cell_type": "code",
   "execution_count": 16,
   "metadata": {},
   "outputs": [
    {
     "name": "stdout",
     "output_type": "stream",
     "text": [
      "{'Falling down': 0, 'Sit down': 1, 'Stand up': 2, 'still sitting': 3, 'Walking': 4}\n"
     ]
    }
   ],
   "source": [
    "DATA_PATH = os.path.join('DATA') \n",
    "CLASES = os.listdir( DATA_PATH)\n",
    "label_map = {label:num for num,label in enumerate(CLASES)}\n",
    "def load_dataset(DATA_PATH):\n",
    "    CLASES = os.listdir( DATA_PATH)\n",
    "    frames, labels = [], []\n",
    "    for clase in CLASES:\n",
    "        videos = os.listdir(os.path.join(DATA_PATH,clase))\n",
    "        for video in videos:\n",
    "            ventana = []\n",
    "            for frame in range(1,sequence_length+1):\n",
    "                aq = np.load(os.path.join(DATA_PATH,clase, video, \"{}.npy\".format(frame)))\n",
    "                ventana.append(aq)\n",
    "            frames.append(ventana)\n",
    "            labels.append(label_map[clase])\n",
    "    return frames, labels \n",
    "\n",
    "print(label_map)\n"
   ]
  },
  {
   "cell_type": "code",
   "execution_count": 17,
   "metadata": {},
   "outputs": [
    {
     "name": "stdout",
     "output_type": "stream",
     "text": [
      "CPU times: total: 15.8 s\n",
      "Wall time: 18.1 s\n"
     ]
    }
   ],
   "source": [
    "\n",
    "%time sequences,labels = load_dataset(DATA_PATH)"
   ]
  },
  {
   "cell_type": "code",
   "execution_count": 18,
   "metadata": {},
   "outputs": [
    {
     "data": {
      "text/plain": [
       "(1535, 30, 132)"
      ]
     },
     "execution_count": 18,
     "metadata": {},
     "output_type": "execute_result"
    }
   ],
   "source": [
    "X = np.array(sequences)\n",
    "X.shape"
   ]
  },
  {
   "cell_type": "code",
   "execution_count": 19,
   "metadata": {},
   "outputs": [
    {
     "name": "stdout",
     "output_type": "stream",
     "text": [
      "1535\n"
     ]
    }
   ],
   "source": [
    "y = to_categorical(labels).astype(int)\n",
    "print(len(y))"
   ]
  },
  {
   "cell_type": "code",
   "execution_count": 20,
   "metadata": {},
   "outputs": [],
   "source": [
    "with open('X4.npy', 'wb') as f:\n",
    "    np.save(f, X)\n",
    "with open('y4.npy', 'wb') as f:\n",
    "    np.save(f, y)"
   ]
  },
  {
   "cell_type": "code",
   "execution_count": 21,
   "metadata": {},
   "outputs": [
    {
     "data": {
      "text/plain": [
       "['Falling down', 'Sit down', 'Stand up', 'still sitting', 'Walking']"
      ]
     },
     "execution_count": 21,
     "metadata": {},
     "output_type": "execute_result"
    }
   ],
   "source": [
    "os.listdir('DATA')"
   ]
  }
 ],
 "metadata": {
  "kernelspec": {
   "display_name": "Python 3",
   "language": "python",
   "name": "python3"
  },
  "language_info": {
   "codemirror_mode": {
    "name": "ipython",
    "version": 3
   },
   "file_extension": ".py",
   "mimetype": "text/x-python",
   "name": "python",
   "nbconvert_exporter": "python",
   "pygments_lexer": "ipython3",
   "version": "3.11.1 (tags/v3.11.1:a7a450f, Dec  6 2022, 19:58:39) [MSC v.1934 64 bit (AMD64)]"
  },
  "vscode": {
   "interpreter": {
    "hash": "5238573367df39f7286bb46f9ff5f08f63a01a80960060ce41e3c79b190280fa"
   }
  }
 },
 "nbformat": 4,
 "nbformat_minor": 4
}
